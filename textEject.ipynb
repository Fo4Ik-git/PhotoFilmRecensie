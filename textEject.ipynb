{
 "cells": [
  {
   "cell_type": "code",
   "execution_count": 9,
   "id": "f6fe2361-2ff6-4db6-9248-491c402a22b6",
   "metadata": {},
   "outputs": [],
   "source": [
    "import cv2\n",
    "import pytesseract"
   ]
  },
  {
   "cell_type": "code",
   "execution_count": 10,
   "id": "b56f4529-23d6-47ff-bc7d-30498d313e8e",
   "metadata": {},
   "outputs": [
    {
     "name": "stdout",
     "output_type": "stream",
     "text": [
      "data/p1.jpg\n"
     ]
    }
   ],
   "source": [
    "image_path = 'data/p1.jpg'\n",
    "print(image_path)"
   ]
  },
  {
   "cell_type": "code",
   "execution_count": 22,
   "id": "f8c8fc6f-4aa9-4d17-ad79-fb9c542ea250",
   "metadata": {},
   "outputs": [],
   "source": [
    "image = cv2.imread(\"data/pure.png\")\n",
    "\n",
    "gray = cv2.cvtColor(image, cv2.COLOR_BGR2GRAY)\n",
    "\n",
    "_, threshold = cv2.threshold(gray, 0, 255, cv2.THRESH_BINARY | cv2.THRESH_OTSU)\n",
    "\n",
    "kernel = cv2.getStructuringElement(cv2.MORPH_RECT, (3, 3))\n",
    "cleaned = cv2.morphologyEx(threshold, cv2.MORPH_CLOSE, kernel)\n",
    "\n",
    "text = pytesseract.image_to_string(cleaned)"
   ]
  },
  {
   "cell_type": "code",
   "execution_count": 23,
   "id": "f0922873-c15d-4948-a0d1-2623b3d506a8",
   "metadata": {},
   "outputs": [
    {
     "name": "stdout",
     "output_type": "stream",
     "text": [
      "PURE\n",
      "TEXT\n",
      "\f",
      "\n"
     ]
    }
   ],
   "source": [
    "print(text)"
   ]
  }
 ],
 "metadata": {
  "kernelspec": {
   "display_name": "Python 3 (ipykernel)",
   "language": "python",
   "name": "python3"
  },
  "language_info": {
   "codemirror_mode": {
    "name": "ipython",
    "version": 3
   },
   "file_extension": ".py",
   "mimetype": "text/x-python",
   "name": "python",
   "nbconvert_exporter": "python",
   "pygments_lexer": "ipython3",
   "version": "3.10.11"
  },
  "vscode": {
   "interpreter": {
    "hash": "85a85f0dade757a8bb027d25f6216c3f7b22e0a507aac57e949204b8fb051ce9"
   }
  }
 },
 "nbformat": 4,
 "nbformat_minor": 5
}
