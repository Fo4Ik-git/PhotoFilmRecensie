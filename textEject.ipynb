{
 "cells": [
  {
   "cell_type": "code",
   "execution_count": 4,
   "id": "f6fe2361-2ff6-4db6-9248-491c402a22b6",
   "metadata": {},
   "outputs": [],
   "source": [
    "import pytesseract as tess\n",
    "from PIL import Image"
   ]
  },
  {
   "cell_type": "code",
   "execution_count": 5,
   "id": "b56f4529-23d6-47ff-bc7d-30498d313e8e",
   "metadata": {},
   "outputs": [
    {
     "name": "stdout",
     "output_type": "stream",
     "text": [
      "data/pure.png\n"
     ]
    }
   ],
   "source": [
    "image_path = 'data/pure.png'\n",
    "print(image_path)"
   ]
  },
  {
   "cell_type": "code",
   "execution_count": 6,
   "id": "f8c8fc6f-4aa9-4d17-ad79-fb9c542ea250",
   "metadata": {},
   "outputs": [
    {
     "name": "stdout",
     "output_type": "stream",
     "text": [
      "PURE\n",
      "TEXT\n",
      "\f",
      "\n"
     ]
    }
   ],
   "source": [
    "image = Image.open(image_path)\n",
    "text = tess.image_to_string(image)\n",
    "print(text)"
   ]
  },
  {
   "cell_type": "code",
   "execution_count": null,
   "id": "f0922873-c15d-4948-a0d1-2623b3d506a8",
   "metadata": {},
   "outputs": [],
   "source": []
  }
 ],
 "metadata": {
  "kernelspec": {
   "display_name": "Python 3 (ipykernel)",
   "language": "python",
   "name": "python3"
  },
  "language_info": {
   "codemirror_mode": {
    "name": "ipython",
    "version": 3
   },
   "file_extension": ".py",
   "mimetype": "text/x-python",
   "name": "python",
   "nbconvert_exporter": "python",
   "pygments_lexer": "ipython3",
   "version": "3.10.11"
  },
  "vscode": {
   "interpreter": {
    "hash": "85a85f0dade757a8bb027d25f6216c3f7b22e0a507aac57e949204b8fb051ce9"
   }
  }
 },
 "nbformat": 4,
 "nbformat_minor": 5
}
