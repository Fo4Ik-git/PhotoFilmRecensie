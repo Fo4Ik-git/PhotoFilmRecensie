{
 "cells": [
  {
   "cell_type": "code",
   "execution_count": 155,
   "id": "b536339d-18ff-4b7c-a26a-3c3ee6a4dddb",
   "metadata": {},
   "outputs": [],
   "source": [
    "import imdb\n",
    "import requests\n",
    "from bs4 import BeautifulSoup\n",
    "import tensorflow as tf\n",
    "import numpy as np\n",
    "from tensorflow.keras.preprocessing.text import Tokenizer\n",
    "from tensorflow.keras.preprocessing.sequence import pad_sequences\n"
   ]
  },
  {
   "cell_type": "code",
   "execution_count": 157,
   "id": "94159085-7637-4c88-9cb5-38a0eaeac294",
   "metadata": {},
   "outputs": [],
   "source": [
    "# Otrzymanie comentarzów \n",
    "def get_imdb_reviews(movie_title):\n",
    "    url = f\"https://www.imdb.com/title/{movie_title}/reviews\"\n",
    "    response = requests.get(url)\n",
    "    soup = BeautifulSoup(response.text, 'html.parser')\n",
    "    review_containers = soup.find_all(\"div\", class_=\"lister-item-content\")\n",
    "\n",
    "    reviews = []\n",
    "    for container in review_containers:\n",
    "        review_text = container.find(\"div\", class_=\"text\").text.strip()\n",
    "        reviews.append(review_text)\n",
    "\n",
    "    return reviews"
   ]
  },
  {
   "cell_type": "code",
   "execution_count": 158,
   "id": "5dc51674-bb80-4a46-a1ed-a79b129590a8",
   "metadata": {},
   "outputs": [],
   "source": [
    "def load_data():\n",
    "    movie_ids = ['tt1375666']  # Id filmu dla treningu\n",
    "    reviews = []\n",
    "    for movie_id in movie_ids:\n",
    "        reviews.extend(get_imdb_reviews(movie_id))\n",
    "    return reviews"
   ]
  },
  {
   "cell_type": "code",
   "execution_count": 159,
   "id": "439c2408-d412-4edd-a063-20226897be3d",
   "metadata": {},
   "outputs": [],
   "source": [
    "reviews = load_data()\n",
    "# ocena comentarza (0 - zly 1 - dobry)\n",
    "labels = np.array([1, 0, 1, 1, 0, 1, 1, 0, 0, 0,\n",
    "                   0, 1, 0, 1, 0, 0, 1, 1, 0, 1,\n",
    "                   1, 0, 1, 0, 1])"
   ]
  },
  {
   "cell_type": "code",
   "execution_count": 160,
   "id": "2a68c87c-e932-46c1-a682-71ffbb625987",
   "metadata": {},
   "outputs": [],
   "source": [
    "# Tworzenie i trening modelu\n",
    "tokenizer = Tokenizer(num_words=10000)  # Ograniczenie słownictwa do 10 000 najczęściej używanych słów.\n",
    "tokenizer.fit_on_texts(reviews)\n",
    "sequences = tokenizer.texts_to_sequences(reviews)\n",
    "padded_sequences = pad_sequences(sequences, maxlen=100)  # Ogranicz długość sekwencji do 100 słów\n",
    "\n"
   ]
  },
  {
   "cell_type": "code",
   "execution_count": 161,
   "id": "bfa90aba-0e83-43f0-b208-8618b797b6ca",
   "metadata": {},
   "outputs": [],
   "source": [
    "model = tf.keras.models.Sequential([\n",
    "    tf.keras.layers.Embedding(10000, 16, input_length=100),\n",
    "    tf.keras.layers.GlobalAveragePooling1D(),\n",
    "    tf.keras.layers.Dense(16, activation='relu'),\n",
    "    tf.keras.layers.Dense(1, activation='sigmoid')\n",
    "])"
   ]
  },
  {
   "cell_type": "code",
   "execution_count": 162,
   "id": "94af0809-9019-4694-9a00-1efb8c5d17fe",
   "metadata": {},
   "outputs": [
    {
     "name": "stdout",
     "output_type": "stream",
     "text": [
      "Epoch 1/2\n",
      "1/1 [==============================] - 2s 2s/step - loss: 0.6933 - accuracy: 0.6000\n",
      "Epoch 2/2\n",
      "1/1 [==============================] - 0s 64ms/step - loss: 0.6924 - accuracy: 0.5200\n"
     ]
    },
    {
     "data": {
      "text/plain": [
       "<keras.callbacks.History at 0x7f2b0ce8c340>"
      ]
     },
     "execution_count": 162,
     "metadata": {},
     "output_type": "execute_result"
    }
   ],
   "source": [
    "model.compile(loss='binary_crossentropy', optimizer='adam', metrics=['accuracy'])\n",
    "model.fit(padded_sequences, labels, epochs=2)"
   ]
  },
  {
   "cell_type": "code",
   "execution_count": 163,
   "id": "c06f064f-d29d-424c-900c-64ec81f18343",
   "metadata": {},
   "outputs": [],
   "source": [
    "# Funkcja analizy filmu\n",
    "def analyze_movie(movie_id):\n",
    "    reviews = get_imdb_reviews(movie_id)\n",
    "    sequences = tokenizer.texts_to_sequences(reviews)\n",
    "    padded_sequences = pad_sequences(sequences, maxlen=100)\n",
    "    predictions = model.predict(padded_sequences)\n",
    "    average_sentiment = predictions.mean()\n",
    "    return average_sentiment"
   ]
  },
  {
   "cell_type": "code",
   "execution_count": 164,
   "id": "df3334f6-8a4e-4c57-bcb4-f6ff88a7e0e9",
   "metadata": {},
   "outputs": [],
   "source": [
    "def get_imdb_movie_id(movie_title):\n",
    "    movies = ia.search_movie(movie_title)\n",
    "    movie = movies[0]\n",
    "    movie_id = movie.getID()\n",
    "    return 'tt' + movie_id"
   ]
  },
  {
   "cell_type": "code",
   "execution_count": 165,
   "id": "b95d903e-de0e-4175-a9db-730f05561e47",
   "metadata": {},
   "outputs": [
    {
     "name": "stdout",
     "output_type": "stream",
     "text": [
      "1/1 [==============================] - 0s 74ms/step\n",
      "The movie 'Toy Story' is recommended.\n"
     ]
    }
   ],
   "source": [
    "title = 'Toy Story'\n",
    "mv = get_imdb_movie_id(title)\n",
    "#movie_title = get_imdb_movie_title_by_id(movie_id)\n",
    "sentiment = analyze_movie(mv)\n",
    "if sentiment > 0.5:\n",
    "    print(f\"The movie '{title}' is recommended.\")\n",
    "else:\n",
    "    print(f\"The movie '{title}' is not recommended.\")"
   ]
  },
  {
   "cell_type": "code",
   "execution_count": null,
   "id": "d5763723-3986-47cc-8688-53b5e0d4d0a5",
   "metadata": {},
   "outputs": [],
   "source": []
  }
 ],
 "metadata": {
  "kernelspec": {
   "display_name": "Python 3 (ipykernel)",
   "language": "python",
   "name": "python3"
  },
  "language_info": {
   "codemirror_mode": {
    "name": "ipython",
    "version": 3
   },
   "file_extension": ".py",
   "mimetype": "text/x-python",
   "name": "python",
   "nbconvert_exporter": "python",
   "pygments_lexer": "ipython3",
   "version": "3.10.11"
  }
 },
 "nbformat": 4,
 "nbformat_minor": 5
}
