{
 "cells": [
  {
   "cell_type": "code",
   "execution_count": 8,
   "id": "b536339d-18ff-4b7c-a26a-3c3ee6a4dddb",
   "metadata": {},
   "outputs": [],
   "source": [
    "import imdb\n",
    "import requests\n",
    "from bs4 import BeautifulSoup\n",
    "import tensorflow as tf\n",
    "import numpy as np\n",
    "from tensorflow.keras.preprocessing.text import Tokenizer\n",
    "from tensorflow.keras.preprocessing.sequence import pad_sequences\n",
    "import pandas as pd\n",
    "\n",
    "ia = imdb.IMDb()"
   ]
  },
  {
   "cell_type": "code",
   "execution_count": 9,
   "id": "94159085-7637-4c88-9cb5-38a0eaeac294",
   "metadata": {},
   "outputs": [],
   "source": [
    "# Otrzymanie comentarzów \n",
    "def get_imdb_reviews(movie_title):\n",
    "    url = f\"https://www.imdb.com/title/{movie_title}/reviews\"\n",
    "    response = requests.get(url)\n",
    "    soup = BeautifulSoup(response.text, 'html.parser')\n",
    "    review_containers = soup.find_all(\"div\", class_=\"lister-item-content\")\n",
    "\n",
    "    reviews = []\n",
    "    for container in review_containers:\n",
    "        review_text = container.find(\"div\", class_=\"text\").text.strip()\n",
    "        reviews.append(review_text)\n",
    "\n",
    "    return reviews"
   ]
  },
  {
   "cell_type": "code",
   "execution_count": 11,
   "id": "5dc51674-bb80-4a46-a1ed-a79b129590a8",
   "metadata": {},
   "outputs": [],
   "source": [
    "import chardet\n",
    "def load_data(file_path):\n",
    "    with open(file_path, 'rb') as f:\n",
    "        result = chardet.detect(f.read())\n",
    "    encoding = result['encoding']\n",
    "    data = pd.read_csv(file_path, encoding=encoding)\n",
    "    reviews = data['comment'].tolist()\n",
    "    labels = data['rating'].tolist()\n",
    "    return reviews, labels"
   ]
  },
  {
   "cell_type": "code",
   "execution_count": 12,
   "id": "439c2408-d412-4edd-a063-20226897be3d",
   "metadata": {},
   "outputs": [],
   "source": [
    "file_path = 'data.csv'\n",
    "reviews, labels = load_data(file_path)\n",
    "\n",
    "#for review, label in zip(reviews[:10], labels[:10]):\n",
    "#    print(\"Rewiew: \" + review)\n",
    "#    print(\"Labels: \" + str(label))"
   ]
  },
  {
   "cell_type": "code",
   "execution_count": 13,
   "id": "2a68c87c-e932-46c1-a682-71ffbb625987",
   "metadata": {},
   "outputs": [],
   "source": [
    "# Tworzenie i trening modelu\n",
    "tokenizer = Tokenizer(num_words=10000)  # Ograniczenie słownictwa do 10 000 najczęściej używanych słów.\n",
    "tokenizer.fit_on_texts(reviews)\n",
    "sequences = tokenizer.texts_to_sequences(reviews)\n",
    "padded_sequences = pad_sequences(sequences, maxlen=100)  # Ogranicz długość sekwencji do 100 słów"
   ]
  },
  {
   "cell_type": "code",
   "execution_count": 14,
   "id": "bfa90aba-0e83-43f0-b208-8618b797b6ca",
   "metadata": {},
   "outputs": [
    {
     "name": "stderr",
     "output_type": "stream",
     "text": [
      "2023-06-02 19:21:26.295890: I tensorflow/compiler/xla/stream_executor/cuda/cuda_gpu_executor.cc:982] could not open file to read NUMA node: /sys/bus/pci/devices/0000:01:00.0/numa_node\n",
      "Your kernel may have been built without NUMA support.\n",
      "2023-06-02 19:21:26.552117: I tensorflow/compiler/xla/stream_executor/cuda/cuda_gpu_executor.cc:982] could not open file to read NUMA node: /sys/bus/pci/devices/0000:01:00.0/numa_node\n",
      "Your kernel may have been built without NUMA support.\n",
      "2023-06-02 19:21:26.552236: I tensorflow/compiler/xla/stream_executor/cuda/cuda_gpu_executor.cc:982] could not open file to read NUMA node: /sys/bus/pci/devices/0000:01:00.0/numa_node\n",
      "Your kernel may have been built without NUMA support.\n",
      "2023-06-02 19:21:26.559743: I tensorflow/compiler/xla/stream_executor/cuda/cuda_gpu_executor.cc:982] could not open file to read NUMA node: /sys/bus/pci/devices/0000:01:00.0/numa_node\n",
      "Your kernel may have been built without NUMA support.\n",
      "2023-06-02 19:21:26.559896: I tensorflow/compiler/xla/stream_executor/cuda/cuda_gpu_executor.cc:982] could not open file to read NUMA node: /sys/bus/pci/devices/0000:01:00.0/numa_node\n",
      "Your kernel may have been built without NUMA support.\n",
      "2023-06-02 19:21:26.559960: I tensorflow/compiler/xla/stream_executor/cuda/cuda_gpu_executor.cc:982] could not open file to read NUMA node: /sys/bus/pci/devices/0000:01:00.0/numa_node\n",
      "Your kernel may have been built without NUMA support.\n",
      "2023-06-02 19:21:29.328387: I tensorflow/compiler/xla/stream_executor/cuda/cuda_gpu_executor.cc:982] could not open file to read NUMA node: /sys/bus/pci/devices/0000:01:00.0/numa_node\n",
      "Your kernel may have been built without NUMA support.\n",
      "2023-06-02 19:21:29.328607: I tensorflow/compiler/xla/stream_executor/cuda/cuda_gpu_executor.cc:982] could not open file to read NUMA node: /sys/bus/pci/devices/0000:01:00.0/numa_node\n",
      "Your kernel may have been built without NUMA support.\n",
      "2023-06-02 19:21:29.328625: I tensorflow/core/common_runtime/gpu/gpu_device.cc:1722] Could not identify NUMA node of platform GPU id 0, defaulting to 0.  Your kernel may not have been built with NUMA support.\n",
      "2023-06-02 19:21:29.328846: I tensorflow/compiler/xla/stream_executor/cuda/cuda_gpu_executor.cc:982] could not open file to read NUMA node: /sys/bus/pci/devices/0000:01:00.0/numa_node\n",
      "Your kernel may have been built without NUMA support.\n",
      "2023-06-02 19:21:29.328914: I tensorflow/core/common_runtime/gpu/gpu_device.cc:1635] Created device /job:localhost/replica:0/task:0/device:GPU:0 with 1268 MB memory:  -> device: 0, name: NVIDIA GeForce MX150, pci bus id: 0000:01:00.0, compute capability: 6.1\n"
     ]
    }
   ],
   "source": [
    "model = None\n",
    "model = tf.keras.models.Sequential([\n",
    "    tf.keras.layers.Embedding(10000, 16, input_length=100),\n",
    "    tf.keras.layers.Flatten(),\n",
    "    tf.keras.layers.Dense(16, activation='relu'),\n",
    "    tf.keras.layers.Dense(1, activation='sigmoid')\n",
    "])"
   ]
  },
  {
   "cell_type": "code",
   "execution_count": 15,
   "id": "94af0809-9019-4694-9a00-1efb8c5d17fe",
   "metadata": {},
   "outputs": [
    {
     "name": "stdout",
     "output_type": "stream",
     "text": [
      "Epoch 1/7\n"
     ]
    },
    {
     "name": "stderr",
     "output_type": "stream",
     "text": [
      "2023-06-02 19:21:33.034942: I tensorflow/compiler/xla/service/service.cc:169] XLA service 0x7f9b15cff9e0 initialized for platform CUDA (this does not guarantee that XLA will be used). Devices:\n",
      "2023-06-02 19:21:33.035036: I tensorflow/compiler/xla/service/service.cc:177]   StreamExecutor device (0): NVIDIA GeForce MX150, Compute Capability 6.1\n",
      "2023-06-02 19:21:33.101523: I tensorflow/compiler/mlir/tensorflow/utils/dump_mlir_util.cc:269] disabling MLIR crash reproducer, set env var `MLIR_CRASH_REPRODUCER_DIRECTORY` to enable.\n",
      "2023-06-02 19:21:33.724416: I tensorflow/compiler/xla/stream_executor/cuda/cuda_dnn.cc:424] Loaded cuDNN version 8600\n",
      "2023-06-02 19:21:34.201244: I tensorflow/tsl/platform/default/subprocess.cc:304] Start cannot spawn child process: No such file or directory\n",
      "2023-06-02 19:21:34.381480: I ./tensorflow/compiler/jit/device_compiler.h:180] Compiled cluster using XLA!  This line is logged at most once for the lifetime of the process.\n"
     ]
    },
    {
     "name": "stdout",
     "output_type": "stream",
     "text": [
      "5/5 [==============================] - 7s 345ms/step - loss: 0.6920 - accuracy: 0.5533\n",
      "Epoch 2/7\n",
      "5/5 [==============================] - 2s 344ms/step - loss: 0.6624 - accuracy: 0.6933\n",
      "Epoch 3/7\n",
      "5/5 [==============================] - 2s 358ms/step - loss: 0.6387 - accuracy: 0.8667\n",
      "Epoch 4/7\n",
      "5/5 [==============================] - 2s 397ms/step - loss: 0.6138 - accuracy: 0.9533\n",
      "Epoch 5/7\n",
      "5/5 [==============================] - 1s 262ms/step - loss: 0.5843 - accuracy: 0.9667\n",
      "Epoch 6/7\n",
      "5/5 [==============================] - 2s 349ms/step - loss: 0.5492 - accuracy: 0.9800\n",
      "Epoch 7/7\n",
      "5/5 [==============================] - 1s 261ms/step - loss: 0.5042 - accuracy: 1.0000\n"
     ]
    },
    {
     "data": {
      "text/plain": [
       "<keras.callbacks.History at 0x7f9bf1699390>"
      ]
     },
     "execution_count": 15,
     "metadata": {},
     "output_type": "execute_result"
    }
   ],
   "source": [
    "labels = np.array(labels)\n",
    "model.compile(loss='binary_crossentropy', optimizer='adam', metrics=['accuracy'])\n",
    "model.fit(padded_sequences, labels, epochs=7)"
   ]
  },
  {
   "cell_type": "code",
   "execution_count": 16,
   "id": "c06f064f-d29d-424c-900c-64ec81f18343",
   "metadata": {},
   "outputs": [],
   "source": [
    "# Funkcja analizy filmu\n",
    "def analyze_movie(movie_id):\n",
    "    reviews = get_imdb_reviews(movie_id)\n",
    "    sequences = tokenizer.texts_to_sequences(reviews)\n",
    "    padded_sequences = pad_sequences(sequences, maxlen=100)\n",
    "    predictions = model.predict(padded_sequences)\n",
    "    average_sentiment = predictions.mean()\n",
    "    return average_sentiment"
   ]
  },
  {
   "cell_type": "code",
   "execution_count": 17,
   "id": "df3334f6-8a4e-4c57-bcb4-f6ff88a7e0e9",
   "metadata": {},
   "outputs": [],
   "source": [
    "def get_imdb_movie_id(movie_title):\n",
    "    movies = ia.search_movie(movie_title)\n",
    "    movie = movies[0]\n",
    "    movie_id = movie.getID()\n",
    "    return 'tt' + movie_id"
   ]
  },
  {
   "cell_type": "code",
   "execution_count": 18,
   "id": "b95d903e-de0e-4175-a9db-730f05561e47",
   "metadata": {},
   "outputs": [
    {
     "name": "stdout",
     "output_type": "stream",
     "text": [
      "1/1 [==============================] - 0s 110ms/step\n",
      "The movie 'TOY STORY 2' is not recommended.\n"
     ]
    }
   ],
   "source": [
    "title = 'TOY STORY 2'\n",
    "mv = get_imdb_movie_id(title)\n",
    "#movie_title = get_imdb_movie_title_by_id(movie_id)\n",
    "sentiment = analyze_movie(mv)\n",
    "if sentiment > 0.5:\n",
    "    print(f\"The movie '{title}' is recommended.\")\n",
    "else:\n",
    "    print(f\"The movie '{title}' is not recommended.\")"
   ]
  },
  {
   "cell_type": "code",
   "execution_count": null,
   "id": "d5763723-3986-47cc-8688-53b5e0d4d0a5",
   "metadata": {},
   "outputs": [],
   "source": []
  }
 ],
 "metadata": {
  "kernelspec": {
   "display_name": "Python 3 (ipykernel)",
   "language": "python",
   "name": "python3"
  },
  "language_info": {
   "codemirror_mode": {
    "name": "ipython",
    "version": 3
   },
   "file_extension": ".py",
   "mimetype": "text/x-python",
   "name": "python",
   "nbconvert_exporter": "python",
   "pygments_lexer": "ipython3",
   "version": "3.10.11"
  }
 },
 "nbformat": 4,
 "nbformat_minor": 5
}
